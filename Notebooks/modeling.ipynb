{
 "cells": [
  {
   "cell_type": "code",
   "execution_count": 9,
   "id": "b582c18a",
   "metadata": {},
   "outputs": [
    {
     "name": "stdout",
     "output_type": "stream",
     "text": [
      "Accuracy: 0.35443037974683544\n",
      "\n",
      "Classification Report:\n",
      "               precision    recall  f1-score   support\n",
      "\n",
      "           0       0.36      0.80      0.50         5\n",
      "           5       0.00      0.00      0.00         4\n",
      "           6       1.00      0.33      0.50         6\n",
      "           7       0.00      0.00      0.00         1\n",
      "           8       0.22      0.33      0.27         6\n",
      "           9       0.00      0.00      0.00         5\n",
      "          10       0.41      0.64      0.50        11\n",
      "          11       0.12      0.20      0.15         5\n",
      "          12       0.25      0.20      0.22         5\n",
      "          13       0.40      0.40      0.40         5\n",
      "          14       0.29      0.33      0.31         6\n",
      "          15       0.50      0.60      0.55        10\n",
      "          16       0.00      0.00      0.00         4\n",
      "          17       0.00      0.00      0.00         3\n",
      "          18       0.33      1.00      0.50         1\n",
      "          19       0.00      0.00      0.00         2\n",
      "\n",
      "    accuracy                           0.35        79\n",
      "   macro avg       0.24      0.30      0.24        79\n",
      "weighted avg       0.31      0.35      0.31        79\n",
      "\n",
      "\n",
      "Confusion Matrix:\n",
      " [[4 0 0 0 0 0 1 0 0 0 0 0 0 0 0 0]\n",
      " [2 0 0 0 2 0 0 0 0 0 0 0 0 0 0 0]\n",
      " [1 0 2 0 3 0 0 0 0 0 0 0 0 0 0 0]\n",
      " [0 0 0 0 1 0 0 0 0 0 0 0 0 0 0 0]\n",
      " [2 0 0 0 2 0 2 0 0 0 0 0 0 0 0 0]\n",
      " [1 0 0 0 1 0 3 0 0 0 0 0 0 0 0 0]\n",
      " [1 0 0 0 0 1 7 1 1 0 0 0 0 0 0 0]\n",
      " [0 0 0 0 0 0 4 1 0 0 0 0 0 0 0 0]\n",
      " [0 0 0 0 0 0 0 2 1 2 0 0 0 0 0 0]\n",
      " [0 0 0 0 0 0 0 1 0 2 2 0 0 0 0 0]\n",
      " [0 0 0 0 0 0 0 2 1 1 2 0 0 0 0 0]\n",
      " [0 0 0 0 0 0 0 1 0 0 3 6 0 0 0 0]\n",
      " [0 0 0 0 0 0 0 0 0 0 0 4 0 0 0 0]\n",
      " [0 0 0 0 0 0 0 0 1 0 0 2 0 0 0 0]\n",
      " [0 0 0 0 0 0 0 0 0 0 0 0 0 0 1 0]\n",
      " [0 0 0 0 0 0 0 0 0 0 0 0 0 0 2 0]]\n"
     ]
    },
    {
     "name": "stderr",
     "output_type": "stream",
     "text": [
      "c:\\Users\\HP\\AppData\\Local\\Programs\\Python\\Python312\\Lib\\site-packages\\sklearn\\metrics\\_classification.py:1531: UndefinedMetricWarning: Precision is ill-defined and being set to 0.0 in labels with no predicted samples. Use `zero_division` parameter to control this behavior.\n",
      "  _warn_prf(average, modifier, f\"{metric.capitalize()} is\", len(result))\n",
      "c:\\Users\\HP\\AppData\\Local\\Programs\\Python\\Python312\\Lib\\site-packages\\sklearn\\metrics\\_classification.py:1531: UndefinedMetricWarning: Precision is ill-defined and being set to 0.0 in labels with no predicted samples. Use `zero_division` parameter to control this behavior.\n",
      "  _warn_prf(average, modifier, f\"{metric.capitalize()} is\", len(result))\n",
      "c:\\Users\\HP\\AppData\\Local\\Programs\\Python\\Python312\\Lib\\site-packages\\sklearn\\metrics\\_classification.py:1531: UndefinedMetricWarning: Precision is ill-defined and being set to 0.0 in labels with no predicted samples. Use `zero_division` parameter to control this behavior.\n",
      "  _warn_prf(average, modifier, f\"{metric.capitalize()} is\", len(result))\n"
     ]
    }
   ],
   "source": [
    "###loading encoded dataframe.\n",
    "import pandas as pd\n",
    "\n",
    "df_encoded = pd.read_csv(r'c:\\Users\\HP\\OneDrive\\Desktop\\Projects\\Students-Performance-Predictor\\Data\\processed\\student-mat-encoded.csv')\n",
    "\n",
    "\n",
    "###Train-Test Split & Model Training.\n",
    "from sklearn.model_selection import train_test_split\n",
    "from sklearn.ensemble import RandomForestClassifier\n",
    "from sklearn.metrics import classification_report, confusion_matrix, accuracy_score\n",
    "\n",
    "# Defining target and features.\n",
    "X = df_encoded.drop('G3', axis=1)  # Features          # G3 is the final grade and our prediction target.\n",
    "y = df_encoded['G3']               # Target variable\n",
    "\n",
    "# Train-test split.\n",
    "X_train, X_test, y_train, y_test = train_test_split(X, y, test_size=0.2, random_state=42)\n",
    "\n",
    "# Initializing and trainig model.\n",
    "model = RandomForestClassifier(n_estimators=100, random_state=42)\n",
    "model.fit(X_train, y_train)\n",
    "\n",
    "# Making predictions.\n",
    "y_pred = model.predict(X_test)\n",
    "\n",
    "# Evaluating model.\n",
    "print(\"Accuracy:\", accuracy_score(y_test, y_pred))\n",
    "print(\"\\nClassification Report:\\n\", classification_report(y_test, y_pred))\n",
    "print(\"\\nConfusion Matrix:\\n\", confusion_matrix(y_test, y_pred))\n"
   ]
  }
 ],
 "metadata": {
  "kernelspec": {
   "display_name": "Python 3",
   "language": "python",
   "name": "python3"
  },
  "language_info": {
   "codemirror_mode": {
    "name": "ipython",
    "version": 3
   },
   "file_extension": ".py",
   "mimetype": "text/x-python",
   "name": "python",
   "nbconvert_exporter": "python",
   "pygments_lexer": "ipython3",
   "version": "3.12.6"
  }
 },
 "nbformat": 4,
 "nbformat_minor": 5
}
